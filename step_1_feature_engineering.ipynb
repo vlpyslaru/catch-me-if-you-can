{
 "cells": [
  {
   "cell_type": "markdown",
   "metadata": {},
   "source": [
    "### Feature Engineering\n",
    "В этом блокноте нужно постараться построить такие признаки из имеющихся, чтобы восстанавливаемая закономерность была максимально выразительна. Предполагается, что данные провалидированы, их структура уже известна и имеются некоторые представления о том, как данные распределены"
   ]
  },
  {
   "cell_type": "code",
   "execution_count": 1,
   "metadata": {},
   "outputs": [],
   "source": [
    "import numpy as np\n",
    "import scipy\n",
    "import pandas as pd\n",
    "import matplotlib\n",
    "import sklearn\n",
    "\n",
    "from sklearn.feature_selection import SelectKBest, SelectFpr, chi2, f_classif, VarianceThreshold, SelectFromModel, RFE, RFECV\n",
    "from sklearn.model_selection import train_test_split, GridSearchCV, StratifiedKFold\n",
    "from sklearn.metrics import precision_recall_curve\n",
    "from sklearn.tree import DecisionTreeClassifier\n",
    "from sklearn.pipeline import Pipeline\n",
    "from sklearn.linear_model import LogisticRegression, SGDClassifier\n",
    "from sklearn.svm import SVC\n",
    "from sklearn.naive_bayes import ComplementNB, CategoricalNB\n",
    "from sklearn.neighbors import KNeighborsClassifier\n",
    "from sklearn.decomposition import PCA\n",
    "from sklearn.ensemble import RandomForestClassifier\n",
    "from sklearn.kernel_approximation import RBFSampler\n",
    "from sklearn.preprocessing import OrdinalEncoder\n",
    "from sklearn.impute import SimpleImputer\n",
    "\n",
    "%matplotlib inline\n",
    "from matplotlib import pyplot as plot\n",
    "\n",
    "from modules.utils import print_versions, unpickle\n",
    "from modules.transformers import TimesTransformer, NansCountImputer, DomainsExtractor, DomainsCountImputer, DomainsVectorizer, DomainsSplitter"
   ]
  },
  {
   "cell_type": "code",
   "execution_count": 2,
   "metadata": {},
   "outputs": [
    {
     "name": "stdout",
     "output_type": "stream",
     "text": [
      "Python 3.7.6 (default, Jan  8 2020, 20:23:39) [MSC v.1916 64 bit (AMD64)]\n",
      " -  numpy 1.18.1\n",
      " -  scipy 1.3.2\n",
      " -  pandas 1.0.0\n",
      " -  matplotlib 3.1.2\n",
      " -  sklearn 0.22.1\n"
     ]
    }
   ],
   "source": [
    "print_versions([ np, scipy, pd, matplotlib, sklearn ])"
   ]
  },
  {
   "cell_type": "code",
   "execution_count": 3,
   "metadata": {},
   "outputs": [],
   "source": [
    "sites = unpickle('./data/site_dic.pkl')\n",
    "sites = { value: key for (key, value) in sites.items() }\n",
    "\n",
    "target_column = 'target'\n",
    "site_columns = [ 'site{}'.format(i) for i in range(1, 11) ]\n",
    "time_columns = [ 'time{}'.format(i) for i in range(1, 11) ]\n",
    "\n",
    "dtype = { c: np.float for c in site_columns }\n",
    "sessions = pd.read_csv('./data/train_sessions.csv', index_col='session_id', dtype=dtype, parse_dates=time_columns)"
   ]
  },
  {
   "cell_type": "markdown",
   "metadata": {},
   "source": [
    "__Отделим фиксированную выборку для изучения, чтобы далее протестировать сделанные по ней выводы на \"переобучение\"__"
   ]
  },
  {
   "cell_type": "code",
   "execution_count": 4,
   "metadata": {},
   "outputs": [
    {
     "name": "stdout",
     "output_type": "stream",
     "text": [
      "Sessions count before split: 253561\n",
      "Sessions with target 0 amount to 0.991 of all sessions\n",
      "Sessions with target 1 amount to 0.009 of all sessions\n",
      "Sessions count after split: 177492\n",
      "Sessions with target 0 amount to 0.991 of all sessions\n",
      "Sessions with target 1 amount to 0.009 of all sessions\n"
     ]
    }
   ],
   "source": [
    "print('Sessions count before split:', sessions.shape[0])\n",
    "\n",
    "for (target, count) in enumerate(sessions[target_column].value_counts()):\n",
    "    print('Sessions with target {} amount to {} of all sessions'.format(target, round(count / sessions.shape[0], 3)))\n",
    "    \n",
    "sessions, _ = train_test_split(sessions, test_size=.3, stratify=sessions[target_column], random_state=42)\n",
    "\n",
    "print('Sessions count after split:', sessions.shape[0])\n",
    "\n",
    "for (target, count) in enumerate(sessions[target_column].value_counts()):\n",
    "    print('Sessions with target {} amount to {} of all sessions'.format(target, round(count / sessions.shape[0], 3)))"
   ]
  },
  {
   "cell_type": "markdown",
   "metadata": {},
   "source": [
    "__Преобразуем все временные признаки с помощью TimesTransformer и NansCountImputer__\n",
    "\n",
    "Первое время каждой сессии TimesTransformer раскладывает на:\n",
    "* номер года\n",
    "* дельту дней между временем и началом года\n",
    "* дельту дней между временем и началом недели\n",
    "* дельту секунд с полуночи\n",
    "\n",
    "Затем TimesTransformer считает дельты между последующим и текущим временем, сохраняя nan, там где время не указано.\n",
    "\n",
    "Такое преобразование было подобрано в соответствии с исследованием временых признаков на первом шаге и позволяет сохранить сезонность, ярко выраженную, как в масштабе года, так и в масштабе недель и дней.\n",
    "\n",
    "Количество nan признаков также может оказаться полезным, поэтому добавим соответствующий признак c помощью NansCountImputer."
   ]
  },
  {
   "cell_type": "code",
   "execution_count": 5,
   "metadata": {},
   "outputs": [
    {
     "data": {
      "text/html": [
       "<div>\n",
       "<style scoped>\n",
       "    .dataframe tbody tr th:only-of-type {\n",
       "        vertical-align: middle;\n",
       "    }\n",
       "\n",
       "    .dataframe tbody tr th {\n",
       "        vertical-align: top;\n",
       "    }\n",
       "\n",
       "    .dataframe thead th {\n",
       "        text-align: right;\n",
       "    }\n",
       "</style>\n",
       "<table border=\"1\" class=\"dataframe\">\n",
       "  <thead>\n",
       "    <tr style=\"text-align: right;\">\n",
       "      <th></th>\n",
       "      <th>year</th>\n",
       "      <th>days_since_year_start</th>\n",
       "      <th>days_since_week_start</th>\n",
       "      <th>seconds_since_midnight</th>\n",
       "      <th>seconds_before_time_2</th>\n",
       "      <th>seconds_before_time_3</th>\n",
       "      <th>seconds_before_time_4</th>\n",
       "      <th>seconds_before_time_5</th>\n",
       "    </tr>\n",
       "  </thead>\n",
       "  <tbody>\n",
       "    <tr>\n",
       "      <th>count</th>\n",
       "      <td>177492.000000</td>\n",
       "      <td>177492.000000</td>\n",
       "      <td>177492.000000</td>\n",
       "      <td>177492.000000</td>\n",
       "      <td>175067.000000</td>\n",
       "      <td>172833.000000</td>\n",
       "      <td>171027.000000</td>\n",
       "      <td>169310.000000</td>\n",
       "    </tr>\n",
       "    <tr>\n",
       "      <th>mean</th>\n",
       "      <td>2013.705463</td>\n",
       "      <td>123.734056</td>\n",
       "      <td>2.291348</td>\n",
       "      <td>46034.032080</td>\n",
       "      <td>19.218442</td>\n",
       "      <td>19.603108</td>\n",
       "      <td>18.027972</td>\n",
       "      <td>15.903691</td>\n",
       "    </tr>\n",
       "    <tr>\n",
       "      <th>std</th>\n",
       "      <td>0.455836</td>\n",
       "      <td>113.384951</td>\n",
       "      <td>1.611727</td>\n",
       "      <td>11337.373133</td>\n",
       "      <td>99.771583</td>\n",
       "      <td>107.715861</td>\n",
       "      <td>95.401051</td>\n",
       "      <td>80.889476</td>\n",
       "    </tr>\n",
       "    <tr>\n",
       "      <th>min</th>\n",
       "      <td>2013.000000</td>\n",
       "      <td>1.000000</td>\n",
       "      <td>0.000000</td>\n",
       "      <td>27444.000000</td>\n",
       "      <td>0.000000</td>\n",
       "      <td>0.000000</td>\n",
       "      <td>0.000000</td>\n",
       "      <td>0.000000</td>\n",
       "    </tr>\n",
       "    <tr>\n",
       "      <th>25%</th>\n",
       "      <td>2013.000000</td>\n",
       "      <td>49.000000</td>\n",
       "      <td>1.000000</td>\n",
       "      <td>36767.000000</td>\n",
       "      <td>0.000000</td>\n",
       "      <td>0.000000</td>\n",
       "      <td>0.000000</td>\n",
       "      <td>0.000000</td>\n",
       "    </tr>\n",
       "    <tr>\n",
       "      <th>50%</th>\n",
       "      <td>2014.000000</td>\n",
       "      <td>79.000000</td>\n",
       "      <td>2.000000</td>\n",
       "      <td>44514.500000</td>\n",
       "      <td>1.000000</td>\n",
       "      <td>1.000000</td>\n",
       "      <td>1.000000</td>\n",
       "      <td>1.000000</td>\n",
       "    </tr>\n",
       "    <tr>\n",
       "      <th>75%</th>\n",
       "      <td>2014.000000</td>\n",
       "      <td>118.000000</td>\n",
       "      <td>4.000000</td>\n",
       "      <td>54147.250000</td>\n",
       "      <td>4.000000</td>\n",
       "      <td>4.000000</td>\n",
       "      <td>4.000000</td>\n",
       "      <td>4.000000</td>\n",
       "    </tr>\n",
       "    <tr>\n",
       "      <th>max</th>\n",
       "      <td>2014.000000</td>\n",
       "      <td>364.000000</td>\n",
       "      <td>6.000000</td>\n",
       "      <td>86380.000000</td>\n",
       "      <td>1800.000000</td>\n",
       "      <td>1800.000000</td>\n",
       "      <td>1799.000000</td>\n",
       "      <td>1798.000000</td>\n",
       "    </tr>\n",
       "  </tbody>\n",
       "</table>\n",
       "</div>"
      ],
      "text/plain": [
       "                year  days_since_year_start  days_since_week_start  \\\n",
       "count  177492.000000          177492.000000          177492.000000   \n",
       "mean     2013.705463             123.734056               2.291348   \n",
       "std         0.455836             113.384951               1.611727   \n",
       "min      2013.000000               1.000000               0.000000   \n",
       "25%      2013.000000              49.000000               1.000000   \n",
       "50%      2014.000000              79.000000               2.000000   \n",
       "75%      2014.000000             118.000000               4.000000   \n",
       "max      2014.000000             364.000000               6.000000   \n",
       "\n",
       "       seconds_since_midnight  seconds_before_time_2  seconds_before_time_3  \\\n",
       "count           177492.000000          175067.000000          172833.000000   \n",
       "mean             46034.032080              19.218442              19.603108   \n",
       "std              11337.373133              99.771583             107.715861   \n",
       "min              27444.000000               0.000000               0.000000   \n",
       "25%              36767.000000               0.000000               0.000000   \n",
       "50%              44514.500000               1.000000               1.000000   \n",
       "75%              54147.250000               4.000000               4.000000   \n",
       "max              86380.000000            1800.000000            1800.000000   \n",
       "\n",
       "       seconds_before_time_4  seconds_before_time_5  \n",
       "count          171027.000000          169310.000000  \n",
       "mean               18.027972              15.903691  \n",
       "std                95.401051              80.889476  \n",
       "min                 0.000000               0.000000  \n",
       "25%                 0.000000               0.000000  \n",
       "50%                 1.000000               1.000000  \n",
       "75%                 4.000000               4.000000  \n",
       "max              1799.000000            1798.000000  "
      ]
     },
     "execution_count": 5,
     "metadata": {},
     "output_type": "execute_result"
    }
   ],
   "source": [
    "sessions_times_columns = [\n",
    "    'year',\n",
    "    'days_since_year_start',\n",
    "    'days_since_week_start',\n",
    "    'seconds_since_midnight',\n",
    "    *[ 'seconds_before_time_{}'.format(i + 1) for i in range(1, len(time_columns)) ],\n",
    "    'nans_count'\n",
    "]\n",
    "\n",
    "sessions_times = TimesTransformer().fit_transform(sessions[time_columns].to_numpy())\n",
    "sessions_times = NansCountImputer().fit_transform(sessions_times)\n",
    "sessions_times = pd.DataFrame(sessions_times, sessions.index, sessions_times_columns)\n",
    "\n",
    "sessions_times[sessions_times.columns[:8]].describe()"
   ]
  },
  {
   "cell_type": "code",
   "execution_count": 6,
   "metadata": {},
   "outputs": [
    {
     "data": {
      "text/html": [
       "<div>\n",
       "<style scoped>\n",
       "    .dataframe tbody tr th:only-of-type {\n",
       "        vertical-align: middle;\n",
       "    }\n",
       "\n",
       "    .dataframe tbody tr th {\n",
       "        vertical-align: top;\n",
       "    }\n",
       "\n",
       "    .dataframe thead th {\n",
       "        text-align: right;\n",
       "    }\n",
       "</style>\n",
       "<table border=\"1\" class=\"dataframe\">\n",
       "  <thead>\n",
       "    <tr style=\"text-align: right;\">\n",
       "      <th></th>\n",
       "      <th>seconds_before_time_6</th>\n",
       "      <th>seconds_before_time_7</th>\n",
       "      <th>seconds_before_time_8</th>\n",
       "      <th>seconds_before_time_9</th>\n",
       "      <th>seconds_before_time_10</th>\n",
       "      <th>nans_count</th>\n",
       "    </tr>\n",
       "  </thead>\n",
       "  <tbody>\n",
       "    <tr>\n",
       "      <th>count</th>\n",
       "      <td>167677.000000</td>\n",
       "      <td>166114.000000</td>\n",
       "      <td>164652.000000</td>\n",
       "      <td>163159.000000</td>\n",
       "      <td>161745.000000</td>\n",
       "      <td>177492.000000</td>\n",
       "    </tr>\n",
       "    <tr>\n",
       "      <th>mean</th>\n",
       "      <td>15.406412</td>\n",
       "      <td>14.992589</td>\n",
       "      <td>14.485855</td>\n",
       "      <td>14.395669</td>\n",
       "      <td>13.960432</td>\n",
       "      <td>0.483650</td>\n",
       "    </tr>\n",
       "    <tr>\n",
       "      <th>std</th>\n",
       "      <td>77.388300</td>\n",
       "      <td>75.311319</td>\n",
       "      <td>72.959922</td>\n",
       "      <td>72.763172</td>\n",
       "      <td>69.660122</td>\n",
       "      <td>1.735451</td>\n",
       "    </tr>\n",
       "    <tr>\n",
       "      <th>min</th>\n",
       "      <td>0.000000</td>\n",
       "      <td>0.000000</td>\n",
       "      <td>0.000000</td>\n",
       "      <td>0.000000</td>\n",
       "      <td>0.000000</td>\n",
       "      <td>0.000000</td>\n",
       "    </tr>\n",
       "    <tr>\n",
       "      <th>25%</th>\n",
       "      <td>0.000000</td>\n",
       "      <td>0.000000</td>\n",
       "      <td>0.000000</td>\n",
       "      <td>0.000000</td>\n",
       "      <td>0.000000</td>\n",
       "      <td>0.000000</td>\n",
       "    </tr>\n",
       "    <tr>\n",
       "      <th>50%</th>\n",
       "      <td>1.000000</td>\n",
       "      <td>1.000000</td>\n",
       "      <td>1.000000</td>\n",
       "      <td>1.000000</td>\n",
       "      <td>1.000000</td>\n",
       "      <td>0.000000</td>\n",
       "    </tr>\n",
       "    <tr>\n",
       "      <th>75%</th>\n",
       "      <td>4.000000</td>\n",
       "      <td>4.000000</td>\n",
       "      <td>4.000000</td>\n",
       "      <td>4.000000</td>\n",
       "      <td>4.000000</td>\n",
       "      <td>0.000000</td>\n",
       "    </tr>\n",
       "    <tr>\n",
       "      <th>max</th>\n",
       "      <td>1768.000000</td>\n",
       "      <td>1795.000000</td>\n",
       "      <td>1781.000000</td>\n",
       "      <td>1765.000000</td>\n",
       "      <td>1785.000000</td>\n",
       "      <td>9.000000</td>\n",
       "    </tr>\n",
       "  </tbody>\n",
       "</table>\n",
       "</div>"
      ],
      "text/plain": [
       "       seconds_before_time_6  seconds_before_time_7  seconds_before_time_8  \\\n",
       "count          167677.000000          166114.000000          164652.000000   \n",
       "mean               15.406412              14.992589              14.485855   \n",
       "std                77.388300              75.311319              72.959922   \n",
       "min                 0.000000               0.000000               0.000000   \n",
       "25%                 0.000000               0.000000               0.000000   \n",
       "50%                 1.000000               1.000000               1.000000   \n",
       "75%                 4.000000               4.000000               4.000000   \n",
       "max              1768.000000            1795.000000            1781.000000   \n",
       "\n",
       "       seconds_before_time_9  seconds_before_time_10     nans_count  \n",
       "count          163159.000000           161745.000000  177492.000000  \n",
       "mean               14.395669               13.960432       0.483650  \n",
       "std                72.763172               69.660122       1.735451  \n",
       "min                 0.000000                0.000000       0.000000  \n",
       "25%                 0.000000                0.000000       0.000000  \n",
       "50%                 1.000000                1.000000       0.000000  \n",
       "75%                 4.000000                4.000000       0.000000  \n",
       "max              1765.000000             1785.000000       9.000000  "
      ]
     },
     "execution_count": 6,
     "metadata": {},
     "output_type": "execute_result"
    }
   ],
   "source": [
    "sessions_times[sessions_times.columns[8:]].describe()"
   ]
  },
  {
   "cell_type": "markdown",
   "metadata": {},
   "source": [
    "__Как видно из статистик, интервалы времени между посещениями сайтов после первого, во-первых, выглядят довольно таки схоже, а во-вторых, группируются в нуле и имеют очень длинный и относительно равномерный хвост__"
   ]
  },
  {
   "cell_type": "code",
   "execution_count": 7,
   "metadata": {},
   "outputs": [
    {
     "data": {
      "image/png": "[encoded data removed]",
      "text/plain": [
       "<Figure size 864x360 with 4 Axes>"
      ]
     },
     "metadata": {
      "needs_background": "light"
     },
     "output_type": "display_data"
    }
   ],
   "source": [
    "def filter_na(a):\n",
    "    return [ e for e in a if not np.isnan(e) ]\n",
    "\n",
    "targets = [0, 1]\n",
    "sessions_times_by_target = [ sessions_times[sessions[target_column] == t] for t in targets ]\n",
    "\n",
    "figure, axes = plot.subplots(1, 4, figsize=(12, 5), clear=True)\n",
    "figure.suptitle('')\n",
    "\n",
    "for i in range(0, 4):\n",
    "    column = sessions_times.columns[i]\n",
    "    \n",
    "    ylabel = column.split('_')[0].capitalize()\n",
    "    title = ' '.join(column.split('_')).capitalize()\n",
    "    \n",
    "    axes[i].violinplot([ filter_na(sessions[column].to_numpy()) for sessions in sessions_times_by_target ], positions=targets, widths=[ .8, .3 ], showmedians=True)\n",
    "    axes[i].set(title='{} boxplot'.format(title), xlabel='Target', ylabel=ylabel)\n",
    "\n",
    "plot.tight_layout()\n",
    "plot.show()"
   ]
  },
  {
   "cell_type": "code",
   "execution_count": 8,
   "metadata": {},
   "outputs": [
    {
     "data": {
      "image/png": "[encoded data removed]",
      "text/plain": [
       "<Figure size 1080x360 with 5 Axes>"
      ]
     },
     "metadata": {
      "needs_background": "light"
     },
     "output_type": "display_data"
    }
   ],
   "source": [
    "figure, axes = plot.subplots(1, 5, figsize=(15, 5), clear=True)\n",
    "figure.suptitle('')\n",
    "\n",
    "for (i, column_i) in enumerate([ 4, 5, -4, -3, -2 ]):\n",
    "    column = sessions_times.columns[column_i]\n",
    "    \n",
    "    ylabel = column.split('_')[0].capitalize()\n",
    "    title = ' '.join(column.split('_')).capitalize()\n",
    "    \n",
    "    axes[i].violinplot([ filter_na(sessions[column].to_numpy()) for sessions in sessions_times_by_target ], positions=targets, widths=[ .8, .3 ], showmedians=True)\n",
    "    axes[i].set(title='{} boxplot'.format(title), xlabel='Target', ylabel=ylabel)\n",
    "\n",
    "plot.tight_layout()\n",
    "plot.show()"
   ]
  },
  {
   "cell_type": "markdown",
   "metadata": {},
   "source": [
    "__Выводы которые можно сделать по анализу временных рядов данных__\n",
    "\n",
    "Видно, что, в целом, текущие временные признаки мало подходят для хорошего разделения классов, поскольку границы наиболее объемных частей распределений сильно накладываются друг на друга для разных значениях целевой переменной. Но какую-то пользу из этого все равно можно постараться извлечь. Кроме того, те временные значения которые изначально показались выбросами, на самом деле неплохо отделяют один класс от другого.\n",
    "\n",
    "Существует семейство алгоритмов классификации, которые слабо чувствительны к большим разрбросам в данных, могут находить нелинейные зависимости, легко интерпретируются и, к тому же, достаточно просты по своей сути - решающие деревья. Но они легко переобучаются, поэтому часто их объединяют в особый ансамбль - случайный лес, для уменьшения разброса.\n",
    "\n",
    "Для отбора полезных признаков можно извлечь оценку их вклада в разделение выборок из обученного решающего дерева"
   ]
  },
  {
   "cell_type": "code",
   "execution_count": 9,
   "metadata": {},
   "outputs": [],
   "source": [
    "def draw_prc(classifier, X, y, title=None):\n",
    "    (precision, recall, _) = precision_recall_curve(y, classifier.predict_proba(X)[:, 1])\n",
    "\n",
    "    precision_baseline = [ np.mean(y) ] * len(recall)\n",
    "    \n",
    "    if title:\n",
    "        title = 'Precision recall curve for {}'.format(title.lower())\n",
    "\n",
    "    plot.plot(recall, precision, label='Classifier precision recall curve')\n",
    "    plot.plot(recall, precision_baseline, label='Precision baseline')\n",
    "    plot.xlabel('Recall')\n",
    "    plot.ylabel('Precision')\n",
    "    plot.legend()\n",
    "    plot.title(title)\n",
    "    plot.show()\n",
    "\n",
    "\n",
    "def summarize_classifier(classifier, X, y, title=None):\n",
    "    print('{} summary'.format(title.capitalize()))\n",
    "    print()\n",
    "    print('Best parameters', classifier.best_params_)\n",
    "    print()\n",
    "    \n",
    "    for score_name in [ 'f1', 'precision', 'recall', 'roc_auc' ]:\n",
    "        result_key = 'mean_train_{}'.format(score_name)\n",
    "        \n",
    "        if result_key in classifier.cv_results_:\n",
    "            score_value = round(classifier.cv_results_[result_key][classifier.best_index_], 3)\n",
    "            print('Best train {}: {}'.format(score_name, score_value))\n",
    "            \n",
    "        result_key = 'mean_test_{}'.format(score_name)\n",
    "            \n",
    "        if result_key in classifier.cv_results_:\n",
    "            score_value = round(classifier.cv_results_[result_key][classifier.best_index_], 3)\n",
    "            print('Best cv test {}: {}'.format(score_name, score_value))\n",
    "    \n",
    "    print()\n",
    "    draw_prc(classifier, X, y, title)"
   ]
  },
  {
   "cell_type": "code",
   "execution_count": 10,
   "metadata": {},
   "outputs": [],
   "source": [
    "X = sessions_times.fillna(0).to_numpy()\n",
    "y = sessions[target_column].to_numpy()\n",
    "\n",
    "X_train, X_test, y_train, y_test = train_test_split(X, y, stratify=y, test_size=.2, random_state=42)"
   ]
  },
  {
   "cell_type": "code",
   "execution_count": 11,
   "metadata": {},
   "outputs": [
    {
     "name": "stdout",
     "output_type": "stream",
     "text": [
      "Random forest classifier based on time sequences data summary\n",
      "\n",
      "Best parameters {'n_estimators': 94}\n",
      "\n",
      "Best train f1: 1.0\n",
      "Best cv test f1: 0.323\n",
      "Best train precision: 1.0\n",
      "Best cv test precision: 0.697\n",
      "Best train recall: 0.999\n",
      "Best cv test recall: 0.211\n",
      "Best train roc_auc: 1.0\n",
      "Best cv test roc_auc: 0.972\n",
      "\n"
     ]
    },
    {
     "data": {
      "image/png": "[encoded data removed]",
      "text/plain": [
       "<Figure size 432x288 with 1 Axes>"
      ]
     },
     "metadata": {
      "needs_background": "light"
     },
     "output_type": "display_data"
    }
   ],
   "source": [
    "grid_search_kwargs = {\n",
    "    'scoring' : [ 'roc_auc', 'f1', 'precision', 'recall' ],\n",
    "    'refit' : 'f1',\n",
    "    'return_train_score': True,\n",
    "    'cv' : StratifiedKFold(n_splits=4, shuffle=True, random_state=42),\n",
    "    'param_grid' : {\n",
    "        'n_estimators': [ *range(90, 111, 2) ]\n",
    "    }\n",
    "}\n",
    "\n",
    "classifier = RandomForestClassifier(class_weight='balanced', random_state=42)\n",
    "\n",
    "classifier = GridSearchCV(classifier, n_jobs=4, **grid_search_kwargs).fit(X_train, y_train)\n",
    "\n",
    "summarize_classifier(classifier, X_test, y_test, 'Random forest classifier based on time sequences data')"
   ]
  },
  {
   "cell_type": "markdown",
   "metadata": {},
   "source": [
    "__Не самый плохой результат, с учетом того, что вся информация, которая используется при обучении - временные интервалы сессий. PRC - выше рандомного бейзлайна, а значит какая-то обобщающая информация случайным лесом все же извлекается. Небольшая площадь под PRC, в данном случае скорее следствие несбалансированности классов__"
   ]
  },
  {
   "cell_type": "code",
   "execution_count": 12,
   "metadata": {},
   "outputs": [
    {
     "name": "stdout",
     "output_type": "stream",
     "text": [
      "Significance of sessions times features derived from random forest information gain:\n",
      "year                           2.8%\n",
      "days_since_year_start          18.6%\n",
      "days_since_week_start          13.0%\n",
      "seconds_since_midnight         44.4%\n",
      "seconds_before_time_2          2.3%\n",
      "seconds_before_time_3          2.1%\n",
      "seconds_before_time_4          2.0%\n",
      "seconds_before_time_5          2.5%\n",
      "seconds_before_time_6          2.3%\n",
      "seconds_before_time_7          1.8%\n",
      "seconds_before_time_8          2.0%\n",
      "seconds_before_time_9          2.0%\n",
      "seconds_before_time_10         2.0%\n",
      "nans_count                     2.2%\n"
     ]
    }
   ],
   "source": [
    "print('Significance of sessions times features derived from random forest information gain:')\n",
    "\n",
    "for (column, importance) in zip(sessions_times.columns, classifier.best_estimator_.feature_importances_):\n",
    "    print('{:<30} {}%'.format(column, round(importance * 100, 1)))"
   ]
  },
  {
   "cell_type": "markdown",
   "metadata": {},
   "source": [
    "__Наиболее важными признаками для правильной классификации являются количество дней с начала года и недели, а также количество секунд с начала дня__ \n",
    "\n",
    "Можно отобрать их с помощью feature селектора SelectFromModel"
   ]
  },
  {
   "cell_type": "code",
   "execution_count": 13,
   "metadata": {},
   "outputs": [
    {
     "name": "stdout",
     "output_type": "stream",
     "text": [
      "Significance of sessions times features selected from random forest:\n",
      "year                           2.8%\n",
      "days_since_year_start          18.6%\n",
      "days_since_week_start          13.0%\n",
      "seconds_since_midnight         44.4%\n",
      "seconds_before_time_2          2.3%\n",
      "seconds_before_time_3          2.1%\n",
      "seconds_before_time_4          2.0%\n",
      "seconds_before_time_5          2.5%\n",
      "seconds_before_time_6          2.3%\n",
      "seconds_before_time_8          1.8%\n",
      "nans_count                     2.0%\n"
     ]
    }
   ],
   "source": [
    "sessions_times_selector = SelectFromModel(classifier.best_estimator_, prefit=True, threshold=.02)\n",
    "X_train = sessions_times_selector.transform(X_train)\n",
    "X_test = sessions_times_selector.transform(X_test)\n",
    "\n",
    "print('Significance of sessions times features selected from random forest:')\n",
    "\n",
    "columns = np.take(sessions_times.columns, sessions_times_selector.get_support(True))\n",
    "\n",
    "for (column, importance) in zip(columns, classifier.best_estimator_.feature_importances_):\n",
    "    print('{:<30} {}%'.format(column, round(importance * 100, 1)))"
   ]
  },
  {
   "cell_type": "code",
   "execution_count": 14,
   "metadata": {},
   "outputs": [
    {
     "name": "stdout",
     "output_type": "stream",
     "text": [
      "Random forest classifier based on time sequences data summary\n",
      "\n",
      "Best parameters {'n_estimators': 100}\n",
      "\n",
      "Best train f1: 1.0\n",
      "Best cv test f1: 0.378\n",
      "Best train precision: 1.0\n",
      "Best cv test precision: 0.658\n",
      "Best train recall: 1.0\n",
      "Best cv test recall: 0.266\n",
      "Best train roc_auc: 1.0\n",
      "Best cv test roc_auc: 0.974\n",
      "\n"
     ]
    },
    {
     "data": {
      "image/png": "[encoded data removed]",
      "text/plain": [
       "<Figure size 432x288 with 1 Axes>"
      ]
     },
     "metadata": {
      "needs_background": "light"
     },
     "output_type": "display_data"
    }
   ],
   "source": [
    "grid_search_kwargs = {\n",
    "    'scoring' : [ 'roc_auc', 'f1', 'precision', 'recall' ],\n",
    "    'refit' : 'f1',\n",
    "    'return_train_score': True,\n",
    "    'cv' : StratifiedKFold(n_splits=4, shuffle=True, random_state=42),\n",
    "    'param_grid' : {\n",
    "        'n_estimators': [ *range(80, 121, 10) ]\n",
    "    }\n",
    "}\n",
    "\n",
    "classifier = RandomForestClassifier(class_weight='balanced', random_state=42)\n",
    "\n",
    "classifier = GridSearchCV(classifier, n_jobs=4, **grid_search_kwargs).fit(X_train, y_train)\n",
    "\n",
    "summarize_classifier(classifier, X_test, y_test, 'Random forest classifier based on time sequences data')"
   ]
  },
  {
   "cell_type": "markdown",
   "metadata": {},
   "source": [
    "__Значение f1 чуть улучшилось__\n",
    "\n",
    "__Пришло время добавить информацию о посещенных доменах__\n",
    "\n",
    "Самый простой вариант, которым это можно сделать - с помощью простого подсчета доменов через DomainsCountImputer"
   ]
  },
  {
   "cell_type": "code",
   "execution_count": 15,
   "metadata": {},
   "outputs": [],
   "source": [
    "sessions_sites = sessions[site_columns].to_numpy().astype('object')\n",
    "\n",
    "for r in range(0, sessions_sites.shape[0]):\n",
    "    for c in range(0, sessions_sites.shape[1]):\n",
    "        if np.isnan(sessions_sites[r, c]):\n",
    "            sessions_sites[r, c] = None\n",
    "        else:\n",
    "            sessions_sites[r, c] = sites[sessions_sites[r, c]]"
   ]
  },
  {
   "cell_type": "code",
   "execution_count": 16,
   "metadata": {},
   "outputs": [],
   "source": [
    "X = sessions_times.fillna(0).to_numpy()\n",
    "y = sessions[target_column].to_numpy()\n",
    "\n",
    "imputer = DomainsCountImputer()\n",
    "counts = imputer.fit_transform(sessions_sites)\n",
    "\n",
    "X = np.hstack([ X, counts ])\n",
    "\n",
    "X_train, X_test, y_train, y_test = train_test_split(X, y, stratify=y, test_size=.2, random_state=42)"
   ]
  },
  {
   "cell_type": "code",
   "execution_count": 17,
   "metadata": {},
   "outputs": [
    {
     "name": "stdout",
     "output_type": "stream",
     "text": [
      "Random forest classifier based on time sequences data and primitve domains counters summary\n",
      "\n",
      "Best parameters {'n_estimators': 140}\n",
      "\n",
      "Best train f1: 1.0\n",
      "Best cv test f1: 0.396\n",
      "Best train precision: 1.0\n",
      "Best cv test precision: 0.734\n",
      "Best train recall: 1.0\n",
      "Best cv test recall: 0.271\n",
      "Best train roc_auc: 1.0\n",
      "Best cv test roc_auc: 0.979\n",
      "\n"
     ]
    },
    {
     "data": {
      "image/png": "[encoded data removed]",
      "text/plain": [
       "<Figure size 432x288 with 1 Axes>"
      ]
     },
     "metadata": {
      "needs_background": "light"
     },
     "output_type": "display_data"
    }
   ],
   "source": [
    "grid_search_kwargs = {\n",
    "    'scoring' : [ 'roc_auc', 'f1', 'precision', 'recall' ],\n",
    "    'refit' : 'f1',\n",
    "    'return_train_score': True,\n",
    "    'cv' : StratifiedKFold(n_splits=4, shuffle=True, random_state=42),\n",
    "    'param_grid' : {\n",
    "        'n_estimators': [ *range(100, 201, 10) ]\n",
    "    }\n",
    "}\n",
    "\n",
    "classifier = RandomForestClassifier(class_weight='balanced', random_state=42)\n",
    "\n",
    "classifier = GridSearchCV(classifier, n_jobs=4, **grid_search_kwargs).fit(X_train, y_train)\n",
    "\n",
    "summarize_classifier(classifier, X_test, y_test, 'Random forest classifier based on time sequences data and primitve domains counters')"
   ]
  },
  {
   "cell_type": "markdown",
   "metadata": {},
   "source": [
    "__Добавление этой информации также чуть улучшило f1 метрику__\n",
    "\n",
    "Однако вряд ли этого достаточно. Чтобы еще улучшить метрики необходимо попытатся извлечь полезную информацию из посещенных доменов. Можно подисчитывать сколько раз тот или иной посещенный домен встречался в рамках одной сессии и попытаться классифицировать сессии на основе этой информации. Этот подход также известен как bag of words, но здесь мы применим его на уровне отдельных частей домена, разделенных точкой, поскольку даже такая раздробленная информация может оказаться полезной. Чтобы ограничить количество признаков разумных числом, можно рассматривать домены посещенные целевым пользователем. Их мало и существует вероятность, что среди них есть те домены, которые и выделяют этого пользователя.\n",
    "\n",
    "Для осуществления этого были написаны два класса DomainsExtractor - читает строки из любой последовательности и дробит их, если они являются валидными доменами, а также DomainsVectorizer, который векторизует все домены из \"словаря\" и подсчитывает частоту каждого домена словаря для каждой сессии."
   ]
  },
  {
   "cell_type": "code",
   "execution_count": 18,
   "metadata": {},
   "outputs": [
    {
     "name": "stdout",
     "output_type": "stream",
     "text": [
      "Count of vectorized domains: 3191\n",
      "Count of vectorized domains after zero-variance feature reduction: 3191\n"
     ]
    }
   ],
   "source": [
    "domains = DomainsExtractor().extract(sessions_sites[np.where(sessions[target_column].to_numpy() == 1)[0]])\n",
    "\n",
    "vectorizer = DomainsVectorizer(domains)\n",
    "sessions_sites_v = vectorizer.fit_transform(sessions_sites)\n",
    "\n",
    "print('Count of vectorized domains:', sessions_sites_v.shape[1])\n",
    "\n",
    "sessions_sites_v = VarianceThreshold().fit_transform(sessions_sites_v, sessions[target_column].to_numpy())\n",
    "\n",
    "print('Count of vectorized domains after zero-variance feature reduction:', sessions_sites_v.shape[1])"
   ]
  },
  {
   "cell_type": "markdown",
   "metadata": {},
   "source": [
    "__Количество фич очень большое, но фичи эти примерно одной природы и вряд ли имеют большой разброс, поэтому можно попробовать применить к ним какой-нибудь достаточно простой алгоритм, по типу логистической регрессии. Что бы избежать недообучения, можно забустить его до достижения баланса между разбросом и смещением через валидацию__"
   ]
  },
  {
   "cell_type": "code",
   "execution_count": 19,
   "metadata": {},
   "outputs": [],
   "source": [
    "X = sessions_sites_v\n",
    "y = sessions[target_column].to_numpy()\n",
    "\n",
    "X_train, X_test, y_train, y_test = train_test_split(X, y, stratify=y, test_size=.2, random_state=42)"
   ]
  },
  {
   "cell_type": "code",
   "execution_count": 22,
   "metadata": {},
   "outputs": [
    {
     "name": "stdout",
     "output_type": "stream",
     "text": [
      "Random forest classifier based on session domains data summary\n",
      "\n",
      "Best parameters {'alpha': 0.0001, 'max_iter': 100}\n",
      "\n",
      "Best train f1: 0.149\n",
      "Best cv test f1: 0.126\n",
      "Best train precision: 0.081\n",
      "Best cv test precision: 0.068\n",
      "Best train recall: 0.966\n",
      "Best cv test recall: 0.814\n",
      "Best train roc_auc: 0.975\n",
      "Best cv test roc_auc: 0.932\n",
      "\n"
     ]
    },
    {
     "data": {
      "image/png": "[encoded data removed]",
      "text/plain": [
       "<Figure size 432x288 with 1 Axes>"
      ]
     },
     "metadata": {
      "needs_background": "light"
     },
     "output_type": "display_data"
    }
   ],
   "source": [
    "grid_search_kwargs = {\n",
    "    'scoring' : [ 'roc_auc', 'f1', 'precision', 'recall' ],\n",
    "    'refit' : 'f1',\n",
    "    'return_train_score': True,\n",
    "    \n",
    "    'n_jobs': 4,\n",
    "    'cv' : StratifiedKFold(n_splits=4, shuffle=True, random_state=42),\n",
    "    \n",
    "    'param_grid' : {\n",
    "        'alpha': [ 10e-5, 10e-4 ],\n",
    "        'max_iter': [ 100, 105 ]\n",
    "    }\n",
    "}\n",
    "\n",
    "classifier = SGDClassifier(loss='log', class_weight='balanced', random_state=42)\n",
    "classifier = GridSearchCV(classifier, **grid_search_kwargs).fit(X_train, y_train)\n",
    "\n",
    "summarize_classifier(classifier, X_test, y_test, 'Random forest classifier based on session domains data')"
   ]
  },
  {
   "cell_type": "markdown",
   "metadata": {},
   "source": [
    "__Как видно, какую-то полезную информацию с помощью доменов все же получилось извлечь, хоть и несильно много__\n",
    "\n",
    "__Пришло время построить пайплайн и посмотреть на его качество на следующем шаге__"
   ]
  },
  {
   "cell_type": "code",
   "execution_count": null,
   "metadata": {},
   "outputs": [],
   "source": []
  }
 ],
 "metadata": {
  "kernelspec": {
   "display_name": "Python 3",
   "language": "python",
   "name": "python3"
  },
  "language_info": {
   "codemirror_mode": {
    "name": "ipython",
    "version": 3
   },
   "file_extension": ".py",
   "mimetype": "text/x-python",
   "name": "python",
   "nbconvert_exporter": "python",
   "pygments_lexer": "ipython3",
   "version": "3.7.6"
  }
 },
 "nbformat": 4,
 "nbformat_minor": 4
}
