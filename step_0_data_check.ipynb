{
 "cells": [
  {
   "cell_type": "markdown",
   "metadata": {},
   "source": [
    "### Изучение данных\n",
    "Цель данного блокнота состоит в том, чтобы в первый раз взглянуть на данные, понять их природу, сделать все необходимые проверки для обеспечения надежности в дальнейшей работе и подготовиться к feature engineering."
   ]
  },
  {
   "cell_type": "code",
   "execution_count": 1,
   "metadata": {},
   "outputs": [],
   "source": [
    "import numpy as np\n",
    "import pandas as pd\n",
    "import matplotlib\n",
    "import tldextract\n",
    "\n",
    "%matplotlib inline\n",
    "from matplotlib import pyplot as plot\n",
    "\n",
    "from itertools import islice\n",
    "from math import isnan, exp, log\n",
    "from urllib.parse import urlparse\n",
    "from ipaddress import ip_address\n",
    "\n",
    "from modules.utils import print_versions, unpickle"
   ]
  },
  {
   "cell_type": "code",
   "execution_count": 2,
   "metadata": {},
   "outputs": [
    {
     "name": "stdout",
     "output_type": "stream",
     "text": [
      "Python 3.7.6 (default, Jan  8 2020, 20:23:39) [MSC v.1916 64 bit (AMD64)]\n",
      " -  numpy 1.18.1\n",
      " -  pandas 1.0.0\n",
      " -  matplotlib 3.1.2\n",
      " -  tldextract 2.2.0\n"
     ]
    }
   ],
   "source": [
    "print_versions([ np, pd, matplotlib, tldextract ])"
   ]
  },
  {
   "cell_type": "code",
   "execution_count": 3,
   "metadata": {},
   "outputs": [
    {
     "name": "stdout",
     "output_type": "stream",
     "text": [
      "Sites dicitionary is read, type \"<class 'dict'>\", length 48371\n"
     ]
    }
   ],
   "source": [
    "sites_dictionary = unpickle('./data/site_dic.pkl')\n",
    "print('Sites dicitionary is read, type \"{}\", length {}'.format(type(sites_dictionary), len(sites_dictionary)))"
   ]
  },
  {
   "cell_type": "code",
   "execution_count": 4,
   "metadata": {},
   "outputs": [
    {
     "name": "stdout",
     "output_type": "stream",
     "text": [
      "('www.abmecatronique.com', 25075) ('groups.live.com', 13997) ('majeureliguefootball.wordpress.com', 42436)\n"
     ]
    }
   ],
   "source": [
    "print(*islice(sites_dictionary.items(), 3))"
   ]
  },
  {
   "cell_type": "code",
   "execution_count": 5,
   "metadata": {},
   "outputs": [
    {
     "name": "stdout",
     "output_type": "stream",
     "text": [
      "Sessions data is read\n",
      "<class 'pandas.core.frame.DataFrame'>\n",
      "RangeIndex: 253561 entries, 0 to 253560\n",
      "Data columns (total 22 columns):\n",
      " #   Column      Non-Null Count   Dtype  \n",
      "---  ------      --------------   -----  \n",
      " 0   session_id  253561 non-null  int64  \n",
      " 1   site1       253561 non-null  int64  \n",
      " 2   time1       253561 non-null  object \n",
      " 3   site2       250098 non-null  float64\n",
      " 4   time2       250098 non-null  object \n",
      " 5   site3       246919 non-null  float64\n",
      " 6   time3       246919 non-null  object \n",
      " 7   site4       244321 non-null  float64\n",
      " 8   time4       244321 non-null  object \n",
      " 9   site5       241829 non-null  float64\n",
      " 10  time5       241829 non-null  object \n",
      " 11  site6       239495 non-null  float64\n",
      " 12  time6       239495 non-null  object \n",
      " 13  site7       237297 non-null  float64\n",
      " 14  time7       237297 non-null  object \n",
      " 15  site8       235224 non-null  float64\n",
      " 16  time8       235224 non-null  object \n",
      " 17  site9       233084 non-null  float64\n",
      " 18  time9       233084 non-null  object \n",
      " 19  site10      231052 non-null  float64\n",
      " 20  time10      231052 non-null  object \n",
      " 21  target      253561 non-null  int64  \n",
      "dtypes: float64(9), int64(3), object(10)\n",
      "memory usage: 42.6+ MB\n",
      "None\n"
     ]
    }
   ],
   "source": [
    "sessions = pd.read_csv('./data/train_sessions.csv')\n",
    "print('Sessions data is read')\n",
    "print(sessions.info())"
   ]
  },
  {
   "cell_type": "code",
   "execution_count": 6,
   "metadata": {},
   "outputs": [
    {
     "data": {
      "text/html": [
       "<div>\n",
       "<style scoped>\n",
       "    .dataframe tbody tr th:only-of-type {\n",
       "        vertical-align: middle;\n",
       "    }\n",
       "\n",
       "    .dataframe tbody tr th {\n",
       "        vertical-align: top;\n",
       "    }\n",
       "\n",
       "    .dataframe thead th {\n",
       "        text-align: right;\n",
       "    }\n",
       "</style>\n",
       "<table border=\"1\" class=\"dataframe\">\n",
       "  <thead>\n",
       "    <tr style=\"text-align: right;\">\n",
       "      <th></th>\n",
       "      <th>session_id</th>\n",
       "      <th>site1</th>\n",
       "      <th>time1</th>\n",
       "      <th>site2</th>\n",
       "      <th>time2</th>\n",
       "      <th>site3</th>\n",
       "      <th>time3</th>\n",
       "      <th>site4</th>\n",
       "      <th>time4</th>\n",
       "      <th>site5</th>\n",
       "      <th>...</th>\n",
       "      <th>time6</th>\n",
       "      <th>site7</th>\n",
       "      <th>time7</th>\n",
       "      <th>site8</th>\n",
       "      <th>time8</th>\n",
       "      <th>site9</th>\n",
       "      <th>time9</th>\n",
       "      <th>site10</th>\n",
       "      <th>time10</th>\n",
       "      <th>target</th>\n",
       "    </tr>\n",
       "  </thead>\n",
       "  <tbody>\n",
       "    <tr>\n",
       "      <th>0</th>\n",
       "      <td>1</td>\n",
       "      <td>718</td>\n",
       "      <td>2014-02-20 10:02:45</td>\n",
       "      <td>NaN</td>\n",
       "      <td>NaN</td>\n",
       "      <td>NaN</td>\n",
       "      <td>NaN</td>\n",
       "      <td>NaN</td>\n",
       "      <td>NaN</td>\n",
       "      <td>NaN</td>\n",
       "      <td>...</td>\n",
       "      <td>NaN</td>\n",
       "      <td>NaN</td>\n",
       "      <td>NaN</td>\n",
       "      <td>NaN</td>\n",
       "      <td>NaN</td>\n",
       "      <td>NaN</td>\n",
       "      <td>NaN</td>\n",
       "      <td>NaN</td>\n",
       "      <td>NaN</td>\n",
       "      <td>0</td>\n",
       "    </tr>\n",
       "    <tr>\n",
       "      <th>1</th>\n",
       "      <td>2</td>\n",
       "      <td>890</td>\n",
       "      <td>2014-02-22 11:19:50</td>\n",
       "      <td>941.0</td>\n",
       "      <td>2014-02-22 11:19:50</td>\n",
       "      <td>3847.0</td>\n",
       "      <td>2014-02-22 11:19:51</td>\n",
       "      <td>941.0</td>\n",
       "      <td>2014-02-22 11:19:51</td>\n",
       "      <td>942.0</td>\n",
       "      <td>...</td>\n",
       "      <td>2014-02-22 11:19:51</td>\n",
       "      <td>3847.0</td>\n",
       "      <td>2014-02-22 11:19:52</td>\n",
       "      <td>3846.0</td>\n",
       "      <td>2014-02-22 11:19:52</td>\n",
       "      <td>1516.0</td>\n",
       "      <td>2014-02-22 11:20:15</td>\n",
       "      <td>1518.0</td>\n",
       "      <td>2014-02-22 11:20:16</td>\n",
       "      <td>0</td>\n",
       "    </tr>\n",
       "  </tbody>\n",
       "</table>\n",
       "<p>2 rows × 22 columns</p>\n",
       "</div>"
      ],
      "text/plain": [
       "   session_id  site1                time1  site2                time2   site3  \\\n",
       "0           1    718  2014-02-20 10:02:45    NaN                  NaN     NaN   \n",
       "1           2    890  2014-02-22 11:19:50  941.0  2014-02-22 11:19:50  3847.0   \n",
       "\n",
       "                 time3  site4                time4  site5  ...  \\\n",
       "0                  NaN    NaN                  NaN    NaN  ...   \n",
       "1  2014-02-22 11:19:51  941.0  2014-02-22 11:19:51  942.0  ...   \n",
       "\n",
       "                 time6   site7                time7   site8  \\\n",
       "0                  NaN     NaN                  NaN     NaN   \n",
       "1  2014-02-22 11:19:51  3847.0  2014-02-22 11:19:52  3846.0   \n",
       "\n",
       "                 time8   site9                time9  site10  \\\n",
       "0                  NaN     NaN                  NaN     NaN   \n",
       "1  2014-02-22 11:19:52  1516.0  2014-02-22 11:20:15  1518.0   \n",
       "\n",
       "                time10  target  \n",
       "0                  NaN       0  \n",
       "1  2014-02-22 11:20:16       0  \n",
       "\n",
       "[2 rows x 22 columns]"
      ]
     },
     "execution_count": 6,
     "metadata": {},
     "output_type": "execute_result"
    }
   ],
   "source": [
    "sessions.head(2)"
   ]
  },
  {
   "cell_type": "code",
   "execution_count": 7,
   "metadata": {},
   "outputs": [
    {
     "data": {
      "text/html": [
       "<div>\n",
       "<style scoped>\n",
       "    .dataframe tbody tr th:only-of-type {\n",
       "        vertical-align: middle;\n",
       "    }\n",
       "\n",
       "    .dataframe tbody tr th {\n",
       "        vertical-align: top;\n",
       "    }\n",
       "\n",
       "    .dataframe thead th {\n",
       "        text-align: right;\n",
       "    }\n",
       "</style>\n",
       "<table border=\"1\" class=\"dataframe\">\n",
       "  <thead>\n",
       "    <tr style=\"text-align: right;\">\n",
       "      <th></th>\n",
       "      <th>session_id</th>\n",
       "      <th>site1</th>\n",
       "      <th>time1</th>\n",
       "      <th>site2</th>\n",
       "      <th>time2</th>\n",
       "      <th>site3</th>\n",
       "      <th>time3</th>\n",
       "      <th>site4</th>\n",
       "      <th>time4</th>\n",
       "      <th>site5</th>\n",
       "      <th>...</th>\n",
       "      <th>time6</th>\n",
       "      <th>site7</th>\n",
       "      <th>time7</th>\n",
       "      <th>site8</th>\n",
       "      <th>time8</th>\n",
       "      <th>site9</th>\n",
       "      <th>time9</th>\n",
       "      <th>site10</th>\n",
       "      <th>time10</th>\n",
       "      <th>target</th>\n",
       "    </tr>\n",
       "  </thead>\n",
       "  <tbody>\n",
       "    <tr>\n",
       "      <th>253559</th>\n",
       "      <td>253560</td>\n",
       "      <td>812</td>\n",
       "      <td>2013-12-19 15:20:22</td>\n",
       "      <td>676.0</td>\n",
       "      <td>2013-12-19 15:20:22</td>\n",
       "      <td>814.0</td>\n",
       "      <td>2013-12-19 15:20:22</td>\n",
       "      <td>22.0</td>\n",
       "      <td>2013-12-19 15:20:22</td>\n",
       "      <td>39.0</td>\n",
       "      <td>...</td>\n",
       "      <td>2013-12-19 15:20:23</td>\n",
       "      <td>814.0</td>\n",
       "      <td>2013-12-19 15:20:23</td>\n",
       "      <td>570.0</td>\n",
       "      <td>2013-12-19 15:20:23</td>\n",
       "      <td>22.0</td>\n",
       "      <td>2013-12-19 15:20:24</td>\n",
       "      <td>570.0</td>\n",
       "      <td>2013-12-19 15:20:24</td>\n",
       "      <td>0</td>\n",
       "    </tr>\n",
       "    <tr>\n",
       "      <th>253560</th>\n",
       "      <td>253561</td>\n",
       "      <td>34942</td>\n",
       "      <td>2014-04-25 09:56:52</td>\n",
       "      <td>1429.0</td>\n",
       "      <td>2014-04-25 09:56:53</td>\n",
       "      <td>34942.0</td>\n",
       "      <td>2014-04-25 09:56:53</td>\n",
       "      <td>29.0</td>\n",
       "      <td>2014-04-25 09:56:54</td>\n",
       "      <td>30.0</td>\n",
       "      <td>...</td>\n",
       "      <td>2014-04-25 09:56:54</td>\n",
       "      <td>5779.0</td>\n",
       "      <td>2014-04-25 09:56:54</td>\n",
       "      <td>30.0</td>\n",
       "      <td>2014-04-25 09:56:55</td>\n",
       "      <td>35.0</td>\n",
       "      <td>2014-04-25 09:56:55</td>\n",
       "      <td>33.0</td>\n",
       "      <td>2014-04-25 09:56:55</td>\n",
       "      <td>0</td>\n",
       "    </tr>\n",
       "  </tbody>\n",
       "</table>\n",
       "<p>2 rows × 22 columns</p>\n",
       "</div>"
      ],
      "text/plain": [
       "        session_id  site1                time1   site2                time2  \\\n",
       "253559      253560    812  2013-12-19 15:20:22   676.0  2013-12-19 15:20:22   \n",
       "253560      253561  34942  2014-04-25 09:56:52  1429.0  2014-04-25 09:56:53   \n",
       "\n",
       "          site3                time3  site4                time4  site5  ...  \\\n",
       "253559    814.0  2013-12-19 15:20:22   22.0  2013-12-19 15:20:22   39.0  ...   \n",
       "253560  34942.0  2014-04-25 09:56:53   29.0  2014-04-25 09:56:54   30.0  ...   \n",
       "\n",
       "                      time6   site7                time7  site8  \\\n",
       "253559  2013-12-19 15:20:23   814.0  2013-12-19 15:20:23  570.0   \n",
       "253560  2014-04-25 09:56:54  5779.0  2014-04-25 09:56:54   30.0   \n",
       "\n",
       "                      time8  site9                time9  site10  \\\n",
       "253559  2013-12-19 15:20:23   22.0  2013-12-19 15:20:24   570.0   \n",
       "253560  2014-04-25 09:56:55   35.0  2014-04-25 09:56:55    33.0   \n",
       "\n",
       "                     time10  target  \n",
       "253559  2013-12-19 15:20:24       0  \n",
       "253560  2014-04-25 09:56:55       0  \n",
       "\n",
       "[2 rows x 22 columns]"
      ]
     },
     "execution_count": 7,
     "metadata": {},
     "output_type": "execute_result"
    }
   ],
   "source": [
    "sessions.tail(2)"
   ]
  },
  {
   "cell_type": "code",
   "execution_count": 8,
   "metadata": {},
   "outputs": [
    {
     "name": "stdout",
     "output_type": "stream",
     "text": [
      "0    251264\n",
      "1      2297\n",
      "Name: target, dtype: int64\n"
     ]
    }
   ],
   "source": [
    "print(sessions['target'].value_counts())"
   ]
  },
  {
   "cell_type": "markdown",
   "metadata": {},
   "source": [
    "__Классы несбалансированы, возможно придется применять under/over-sampling или балансирующие метрики, для корректного поиска оптимального классификатора__\n",
    "\n",
    "__Фикс данных и проверка целостности:__"
   ]
  },
  {
   "cell_type": "code",
   "execution_count": 9,
   "metadata": {},
   "outputs": [
    {
     "name": "stdout",
     "output_type": "stream",
     "text": [
      "Sites dictionary is valid and can be inverted\n"
     ]
    }
   ],
   "source": [
    "assert len({ *sites_dictionary.values() }) == len(sites_dictionary)\n",
    "print('Sites dictionary is valid and can be inverted')"
   ]
  },
  {
   "cell_type": "code",
   "execution_count": 10,
   "metadata": {},
   "outputs": [],
   "source": [
    "sites_dictionary = { key: value for (value, key) in sites_dictionary.items() }"
   ]
  },
  {
   "cell_type": "code",
   "execution_count": 11,
   "metadata": {},
   "outputs": [
    {
     "name": "stdout",
     "output_type": "stream",
     "text": [
      "(25075, 'www.abmecatronique.com') (13997, 'groups.live.com') (42436, 'majeureliguefootball.wordpress.com')\n",
      "... 48371 total\n"
     ]
    }
   ],
   "source": [
    "print(*islice(sites_dictionary.items(), 3))\n",
    "print('... {} total'.format(len(sites_dictionary)))"
   ]
  },
  {
   "cell_type": "code",
   "execution_count": 12,
   "metadata": {},
   "outputs": [],
   "source": [
    "features_range = range(1, 11)\n",
    "site_features_names = [ 'site{}'.format(i) for i in features_range ]\n",
    "time_features_names = [ 'time{}'.format(i) for i in features_range ]"
   ]
  },
  {
   "cell_type": "code",
   "execution_count": 13,
   "metadata": {},
   "outputs": [],
   "source": [
    "sessions.set_index('session_id', inplace=True, verify_integrity=True)"
   ]
  },
  {
   "cell_type": "code",
   "execution_count": 14,
   "metadata": {},
   "outputs": [
    {
     "name": "stdout",
     "output_type": "stream",
     "text": [
      "Sessions and sites dictionary referential integrity is checked, site indexes are either ints or nans\n"
     ]
    }
   ],
   "source": [
    "def is_any_type_of_integer(value):    \n",
    "    if value == np.nan or isnan(value):\n",
    "        return True\n",
    "    \n",
    "    if (type(value) is int) or np.issubdtype(type(value), np.integer):\n",
    "        return True\n",
    "    \n",
    "    if (type(value) is float):\n",
    "        return value.is_integer()\n",
    "    \n",
    "    if np.issubdtype(type(value), np.floating):\n",
    "        return value.astype(float).is_integer()\n",
    "    \n",
    "    return False\n",
    "\n",
    "for column in (sessions.loc[:, site_features_names]):\n",
    "    for (index, scalar) in enumerate(sessions[column]):\n",
    "        assert is_any_type_of_integer(scalar), '({}, {}) {} is nor integer, neither nan'.format(index, column, scalar)\n",
    "        assert (scalar == np.nan) or isnan(scalar) or (np.int(scalar) in sites_dictionary), '({}, {}) {} is not valid index for sites'.format(index, column, scalar)\n",
    "        \n",
    "print('Sessions and sites dictionary referential integrity is checked, site indexes are either ints or nans')"
   ]
  },
  {
   "cell_type": "code",
   "execution_count": 15,
   "metadata": {},
   "outputs": [
    {
     "data": {
      "text/html": [
       "<div>\n",
       "<style scoped>\n",
       "    .dataframe tbody tr th:only-of-type {\n",
       "        vertical-align: middle;\n",
       "    }\n",
       "\n",
       "    .dataframe tbody tr th {\n",
       "        vertical-align: top;\n",
       "    }\n",
       "\n",
       "    .dataframe thead th {\n",
       "        text-align: right;\n",
       "    }\n",
       "</style>\n",
       "<table border=\"1\" class=\"dataframe\">\n",
       "  <thead>\n",
       "    <tr style=\"text-align: right;\">\n",
       "      <th></th>\n",
       "      <th>site1</th>\n",
       "      <th>time1</th>\n",
       "      <th>site2</th>\n",
       "      <th>time2</th>\n",
       "      <th>site3</th>\n",
       "      <th>time3</th>\n",
       "      <th>site4</th>\n",
       "      <th>time4</th>\n",
       "      <th>site5</th>\n",
       "      <th>time5</th>\n",
       "      <th>...</th>\n",
       "      <th>time6</th>\n",
       "      <th>site7</th>\n",
       "      <th>time7</th>\n",
       "      <th>site8</th>\n",
       "      <th>time8</th>\n",
       "      <th>site9</th>\n",
       "      <th>time9</th>\n",
       "      <th>site10</th>\n",
       "      <th>time10</th>\n",
       "      <th>target</th>\n",
       "    </tr>\n",
       "    <tr>\n",
       "      <th>session_id</th>\n",
       "      <th></th>\n",
       "      <th></th>\n",
       "      <th></th>\n",
       "      <th></th>\n",
       "      <th></th>\n",
       "      <th></th>\n",
       "      <th></th>\n",
       "      <th></th>\n",
       "      <th></th>\n",
       "      <th></th>\n",
       "      <th></th>\n",
       "      <th></th>\n",
       "      <th></th>\n",
       "      <th></th>\n",
       "      <th></th>\n",
       "      <th></th>\n",
       "      <th></th>\n",
       "      <th></th>\n",
       "      <th></th>\n",
       "      <th></th>\n",
       "      <th></th>\n",
       "    </tr>\n",
       "  </thead>\n",
       "  <tbody>\n",
       "    <tr>\n",
       "      <th>1</th>\n",
       "      <td>718</td>\n",
       "      <td>2014-02-20 10:02:45</td>\n",
       "      <td>NaN</td>\n",
       "      <td>NaT</td>\n",
       "      <td>NaN</td>\n",
       "      <td>NaT</td>\n",
       "      <td>NaN</td>\n",
       "      <td>NaT</td>\n",
       "      <td>NaN</td>\n",
       "      <td>NaT</td>\n",
       "      <td>...</td>\n",
       "      <td>NaT</td>\n",
       "      <td>NaN</td>\n",
       "      <td>NaT</td>\n",
       "      <td>NaN</td>\n",
       "      <td>NaT</td>\n",
       "      <td>NaN</td>\n",
       "      <td>NaT</td>\n",
       "      <td>NaN</td>\n",
       "      <td>NaT</td>\n",
       "      <td>0</td>\n",
       "    </tr>\n",
       "    <tr>\n",
       "      <th>2</th>\n",
       "      <td>890</td>\n",
       "      <td>2014-02-22 11:19:50</td>\n",
       "      <td>941.0</td>\n",
       "      <td>2014-02-22 11:19:50</td>\n",
       "      <td>3847.0</td>\n",
       "      <td>2014-02-22 11:19:51</td>\n",
       "      <td>941.0</td>\n",
       "      <td>2014-02-22 11:19:51</td>\n",
       "      <td>942.0</td>\n",
       "      <td>2014-02-22 11:19:51</td>\n",
       "      <td>...</td>\n",
       "      <td>2014-02-22 11:19:51</td>\n",
       "      <td>3847.0</td>\n",
       "      <td>2014-02-22 11:19:52</td>\n",
       "      <td>3846.0</td>\n",
       "      <td>2014-02-22 11:19:52</td>\n",
       "      <td>1516.0</td>\n",
       "      <td>2014-02-22 11:20:15</td>\n",
       "      <td>1518.0</td>\n",
       "      <td>2014-02-22 11:20:16</td>\n",
       "      <td>0</td>\n",
       "    </tr>\n",
       "  </tbody>\n",
       "</table>\n",
       "<p>2 rows × 21 columns</p>\n",
       "</div>"
      ],
      "text/plain": [
       "            site1               time1  site2               time2   site3  \\\n",
       "session_id                                                                 \n",
       "1             718 2014-02-20 10:02:45    NaN                 NaT     NaN   \n",
       "2             890 2014-02-22 11:19:50  941.0 2014-02-22 11:19:50  3847.0   \n",
       "\n",
       "                         time3  site4               time4  site5  \\\n",
       "session_id                                                         \n",
       "1                          NaT    NaN                 NaT    NaN   \n",
       "2          2014-02-22 11:19:51  941.0 2014-02-22 11:19:51  942.0   \n",
       "\n",
       "                         time5  ...               time6   site7  \\\n",
       "session_id                      ...                               \n",
       "1                          NaT  ...                 NaT     NaN   \n",
       "2          2014-02-22 11:19:51  ... 2014-02-22 11:19:51  3847.0   \n",
       "\n",
       "                         time7   site8               time8   site9  \\\n",
       "session_id                                                           \n",
       "1                          NaT     NaN                 NaT     NaN   \n",
       "2          2014-02-22 11:19:52  3846.0 2014-02-22 11:19:52  1516.0   \n",
       "\n",
       "                         time9  site10              time10 target  \n",
       "session_id                                                         \n",
       "1                          NaT     NaN                 NaT      0  \n",
       "2          2014-02-22 11:20:15  1518.0 2014-02-22 11:20:16      0  \n",
       "\n",
       "[2 rows x 21 columns]"
      ]
     },
     "execution_count": 15,
     "metadata": {},
     "output_type": "execute_result"
    }
   ],
   "source": [
    "sessions.loc[:, time_features_names] = sessions.astype(dtype={ column: 'datetime64[ns]' for column in time_features_names })\n",
    "sessions.head(2)"
   ]
  },
  {
   "cell_type": "code",
   "execution_count": 16,
   "metadata": {},
   "outputs": [
    {
     "name": "stdout",
     "output_type": "stream",
     "text": [
      "<class 'pandas.core.frame.DataFrame'>\n",
      "Int64Index: 253561 entries, 1 to 253561\n",
      "Data columns (total 21 columns):\n",
      " #   Column  Non-Null Count   Dtype         \n",
      "---  ------  --------------   -----         \n",
      " 0   site1   253561 non-null  int64         \n",
      " 1   time1   253561 non-null  datetime64[ns]\n",
      " 2   site2   250098 non-null  float64       \n",
      " 3   time2   250098 non-null  datetime64[ns]\n",
      " 4   site3   246919 non-null  float64       \n",
      " 5   time3   246919 non-null  datetime64[ns]\n",
      " 6   site4   244321 non-null  float64       \n",
      " 7   time4   244321 non-null  datetime64[ns]\n",
      " 8   site5   241829 non-null  float64       \n",
      " 9   time5   241829 non-null  datetime64[ns]\n",
      " 10  site6   239495 non-null  float64       \n",
      " 11  time6   239495 non-null  datetime64[ns]\n",
      " 12  site7   237297 non-null  float64       \n",
      " 13  time7   237297 non-null  datetime64[ns]\n",
      " 14  site8   235224 non-null  float64       \n",
      " 15  time8   235224 non-null  datetime64[ns]\n",
      " 16  site9   233084 non-null  float64       \n",
      " 17  time9   233084 non-null  datetime64[ns]\n",
      " 18  site10  231052 non-null  float64       \n",
      " 19  time10  231052 non-null  datetime64[ns]\n",
      " 20  target  253561 non-null  int64         \n",
      "dtypes: datetime64[ns](10), float64(9), int64(2)\n",
      "memory usage: 42.6 MB\n"
     ]
    }
   ],
   "source": [
    "sessions.info()"
   ]
  },
  {
   "cell_type": "markdown",
   "metadata": {},
   "source": [
    "__Нарушений целостности, неправильного форматирования или каких-либо других ошибок не обнаружено, теперь можно изучать сами данные__"
   ]
  },
  {
   "cell_type": "code",
   "execution_count": 17,
   "metadata": {},
   "outputs": [],
   "source": [
    "year_bins = dict()\n",
    "month_bins = dict()\n",
    "weekday_bins = dict()\n",
    "hour_bins = dict()\n",
    "\n",
    "seconds_delta_per_site = []\n",
    "\n",
    "no_scalar_after_nat = True\n",
    "not_dense_than_seconds = True\n",
    "\n",
    "def add_to_bin(bins, value):\n",
    "    if value in bins:\n",
    "        bins[value] = bins[value] + 1\n",
    "    else:\n",
    "        bins[value] = 0\n",
    "\n",
    "for (index, row) in sessions[time_features_names].iterrows():\n",
    "    has_nulls = False\n",
    "    start_timestamp = None\n",
    "    \n",
    "    for timestamp in row:\n",
    "        if pd.isnull(timestamp):\n",
    "            has_nulls = True\n",
    "            continue\n",
    "        \n",
    "        assert type(timestamp) is pd.Timestamp, (index, timestamp, type(timestamp))\n",
    "        \n",
    "        if has_nulls:\n",
    "            no_scalar_after_nat = False\n",
    "            \n",
    "        if timestamp.microsecond != 0:\n",
    "            not_dense_than_seconds = False\n",
    "        \n",
    "        add_to_bin(year_bins, timestamp.year)\n",
    "        add_to_bin(month_bins, timestamp.month)\n",
    "        add_to_bin(weekday_bins, timestamp.isoweekday())\n",
    "        add_to_bin(hour_bins, timestamp.hour)\n",
    "        \n",
    "        if start_timestamp == None:\n",
    "            start_timestamp = timestamp\n",
    "        else:\n",
    "            seconds_delta_per_site.append((timestamp - start_timestamp).total_seconds())\n",
    "            start_timestamp = timestamp"
   ]
  },
  {
   "cell_type": "code",
   "execution_count": 18,
   "metadata": {},
   "outputs": [
    {
     "name": "stdout",
     "output_type": "stream",
     "text": [
      "In sessions time data there is no normal data after null: True\n",
      "In sessions time data lowest resolution is seconds: True\n"
     ]
    }
   ],
   "source": [
    "print('In sessions time data there is no normal data after null:', no_scalar_after_nat)\n",
    "print('In sessions time data lowest resolution is seconds:', not_dense_than_seconds)"
   ]
  },
  {
   "cell_type": "code",
   "execution_count": 19,
   "metadata": {},
   "outputs": [
    {
     "data": {
      "image/png": "[encoded data removed]",
      "text/plain": [
       "<Figure size 720x720 with 4 Axes>"
      ]
     },
     "metadata": {
      "needs_background": "light"
     },
     "output_type": "display_data"
    }
   ],
   "source": [
    "figure, axes = plot.subplots(2, 2, figsize=(10, 10), clear=True)\n",
    "figure.suptitle('')\n",
    "\n",
    "year_bins_total = sum(year_bins.values())\n",
    "                      \n",
    "axes[0, 0].bar([ str(y) for y in sorted(year_bins) ], [ (year_bins[y] / year_bins_total) for y in sorted(year_bins) ])\n",
    "axes[0, 0].set(title='Site visits count per year distribution', ylabel='Site visits count', xlabel='Year')\n",
    "\n",
    "month_bins_total = sum(month_bins.values())\n",
    "\n",
    "axes[0, 1].bar([ str(m) for m in sorted(month_bins) ], [ (month_bins[m] / month_bins_total) for m in sorted(month_bins) ])\n",
    "axes[0, 1].set(title='Site visits count per month distribution', ylabel='Site visits count', xlabel='Month')\n",
    "\n",
    "weekday_bins_total = sum(weekday_bins.values())\n",
    "\n",
    "axes[1, 0].bar([ str(w) for w in sorted(weekday_bins) ], [ (weekday_bins[w] / weekday_bins_total) for w in sorted(weekday_bins) ])\n",
    "axes[1, 0].set(title='Site visits count per week distribution', ylabel='Site visits count', xlabel='Weekday')\n",
    "\n",
    "hour_bins_total = sum(hour_bins.values())\n",
    "\n",
    "axes[1, 1].bar([ str(h) for h in sorted(hour_bins) ], [ (hour_bins[h] / hour_bins_total) for h in sorted(hour_bins) ])\n",
    "axes[1, 1].set(title='Site visits count per hour distribution', ylabel='Site visits count', xlabel='Hour')\n",
    "\n",
    "plot.show()"
   ]
  },
  {
   "cell_type": "code",
   "execution_count": 20,
   "metadata": {},
   "outputs": [
    {
     "data": {
      "image/png": "[encoded data removed]",
      "text/plain": [
       "<Figure size 432x288 with 1 Axes>"
      ]
     },
     "metadata": {
      "needs_background": "light"
     },
     "output_type": "display_data"
    }
   ],
   "source": [
    "plot.hist(seconds_delta_per_site, bins=50, range=(0, 20), density=True)\n",
    "plot.title('Time intervals between site visits per session distribution')\n",
    "plot.xlabel('Time interval, seconds')\n",
    "plot.ylabel('Density of intervals')\n",
    "plot.show()"
   ]
  },
  {
   "cell_type": "code",
   "execution_count": 21,
   "metadata": {},
   "outputs": [
    {
     "name": "stdout",
     "output_type": "stream",
     "text": [
      "Sites visits seconds delta > 20 to <= 20 ratio: 0.126\n"
     ]
    }
   ],
   "source": [
    "upper_count = len([ s for s in seconds_delta_per_site if s > 20 ])\n",
    "lower_count = len([ s for s in seconds_delta_per_site if s <= 20 ])\n",
    "print('Sites visits seconds delta > 20 to <= 20 ratio:', round(upper_count / lower_count, 3))"
   ]
  },
  {
   "cell_type": "code",
   "execution_count": 22,
   "metadata": {},
   "outputs": [
    {
     "name": "stdout",
     "output_type": "stream",
     "text": [
      "Sites visits seconds delta 95 percentile is 60.0\n"
     ]
    }
   ],
   "source": [
    "print('Sites visits seconds delta 95 percentile is', np.quantile(seconds_delta_per_site, .95))"
   ]
  },
  {
   "cell_type": "code",
   "execution_count": 23,
   "metadata": {},
   "outputs": [
    {
     "name": "stdout",
     "output_type": "stream",
     "text": [
      "Sites visits seconds delta logarithmic 95 percentile is 4.110873864173311\n"
     ]
    }
   ],
   "source": [
    "print('Sites visits seconds delta logarithmic 95 percentile is', np.quantile([ log(1+s) for s in seconds_delta_per_site ], .95))"
   ]
  },
  {
   "cell_type": "code",
   "execution_count": 24,
   "metadata": {},
   "outputs": [
    {
     "name": "stdout",
     "output_type": "stream",
     "text": [
      "Site visit month from 5 to 10 per total ratio: 0.047\n"
     ]
    }
   ],
   "source": [
    "rare_values = sum([ month_bins[i] for i in range(5, 11) ])\n",
    "total_values = sum(month_bins.values())\n",
    "print('Site visit month from 5 to 10 per total ratio:', round(rare_values / total_values, 3))"
   ]
  },
  {
   "cell_type": "code",
   "execution_count": 25,
   "metadata": {},
   "outputs": [
    {
     "name": "stdout",
     "output_type": "stream",
     "text": [
      "Site visit hours from 1 to 8 and from 19 to 24 per total ratio: 0.027\n"
     ]
    }
   ],
   "source": [
    "rare_values = sum([ hour_bins[i] for i in [ 7, *range(19, 24) ] ])\n",
    "total_values = sum(hour_bins.values())\n",
    "print('Site visit hours from 1 to 8 and from 19 to 24 per total ratio:', round(rare_values / total_values, 3))"
   ]
  },
  {
   "cell_type": "code",
   "execution_count": 26,
   "metadata": {},
   "outputs": [
    {
     "name": "stdout",
     "output_type": "stream",
     "text": [
      "Site visit weekday from 6 to 7 per total ratio: 0.09\n"
     ]
    }
   ],
   "source": [
    "rare_values = sum([ weekday_bins[i] for i in [ 6, 7 ] ])\n",
    "total_values = sum(weekday_bins.values())\n",
    "print('Site visit weekday from 6 to 7 per total ratio:', round(rare_values / total_values, 3))"
   ]
  },
  {
   "cell_type": "code",
   "execution_count": 27,
   "metadata": {},
   "outputs": [
    {
     "name": "stdout",
     "output_type": "stream",
     "text": [
      "Confirmed assumed simple implicit url format consisting of only dot separated domain names\n"
     ]
    }
   ],
   "source": [
    "non_suffixed_domains = set()\n",
    "\n",
    "for url_raw in sites_dictionary.values():\n",
    "    url = urlparse(url_raw)\n",
    "    \n",
    "    conditions = [\n",
    "        url.path != '',\n",
    "        \n",
    "        url.scheme == '',\n",
    "        url.netloc == '',\n",
    "        url.query == '',\n",
    "        url.fragment == '',\n",
    "        \n",
    "        url.username == None,\n",
    "        url.password == None,\n",
    "        url.hostname == None,\n",
    "        url.port == None\n",
    "    ]\n",
    "    \n",
    "    assert all(conditions), url\n",
    "        \n",
    "    url = urlparse('//' + url_raw, scheme='http')\n",
    "    \n",
    "    conditions = [\n",
    "        url.netloc != '',\n",
    "        url.path == ''\n",
    "    ]\n",
    "    \n",
    "    assert all(conditions), url\n",
    "        \n",
    "    url_domains = tldextract.extract(url.netloc)\n",
    "    \n",
    "    conditions = [\n",
    "        url_domains.domain != ''\n",
    "    ]\n",
    "    \n",
    "    assert all(conditions), (url, url_domains)\n",
    "    \n",
    "    if url_domains.suffix == '':\n",
    "        non_suffixed_domains.add(url_domains.domain)\n",
    "    \n",
    "print('Confirmed assumed simple implicit url format consisting of only dot separated domain names')"
   ]
  },
  {
   "cell_type": "code",
   "execution_count": 28,
   "metadata": {},
   "outputs": [
    {
     "name": "stdout",
     "output_type": "stream",
     "text": [
      "94.23.236.222 202.183.54.12 178.79.162.68 115.30.191.21 208.74.204.114\n"
     ]
    }
   ],
   "source": [
    "print(*islice(non_suffixed_domains, 5))"
   ]
  },
  {
   "cell_type": "code",
   "execution_count": 29,
   "metadata": {},
   "outputs": [
    {
     "name": "stdout",
     "output_type": "stream",
     "text": [
      "Confirmed assumed IPv4 non suffixed domains\n"
     ]
    }
   ],
   "source": [
    "for domain in non_suffixed_domains:\n",
    "    ip = ip_address(domain)\n",
    "    \n",
    "    assert ip.version == 4, domain\n",
    "    \n",
    "print('Confirmed assumed IPv4 non suffixed domains')"
   ]
  },
  {
   "cell_type": "code",
   "execution_count": 30,
   "metadata": {},
   "outputs": [
    {
     "name": "stdout",
     "output_type": "stream",
     "text": [
      "IPv4 vs all url ratio: 0.002\n"
     ]
    }
   ],
   "source": [
    "print('IPv4 vs all url ratio:', round(len(non_suffixed_domains) / len(sites_dictionary), 3))"
   ]
  },
  {
   "cell_type": "markdown",
   "metadata": {},
   "source": [
    "## Выводы\n",
    "* Классы очень сильно несбалансированы, необходимо это учесть в метриках\n",
    "* Данные проверены и готовы к извлечению признаков, требуется только предобработка null'ов\n",
    "* Во временных данных заметна некая \"сезонность\":\n",
    "  * Так сессии в месяцы с 5 по 10 включительно составляют меньше 5 процентов от всех сессий\n",
    "  * Сессии до 8 утра и после 7 вечера составляют долю меньше 3 процентов от всех сессий\n",
    "  * 95 процентов временых интервалов между посещениями сайтов в рамках одной сесии помещяются в одну минуту\n",
    "  * К этим данным нужно присмотреться более подробно и выкинуть соответствующие значения, если они окажутся шумом\n",
    "* Информация о посещенных сайтах хранится в виде доменных имен или ip адресов, последних очень мало и вряд ли они содержат какую-либо полезную информацию"
   ]
  }
 ],
 "metadata": {
  "kernelspec": {
   "display_name": "Python 3",
   "language": "python",
   "name": "python3"
  },
  "language_info": {
   "codemirror_mode": {
    "name": "ipython",
    "version": 3
   },
   "file_extension": ".py",
   "mimetype": "text/x-python",
   "name": "python",
   "nbconvert_exporter": "python",
   "pygments_lexer": "ipython3",
   "version": "3.7.6"
  }
 },
 "nbformat": 4,
 "nbformat_minor": 4
}
